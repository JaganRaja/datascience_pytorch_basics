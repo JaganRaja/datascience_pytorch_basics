{
  "nbformat": 4,
  "nbformat_minor": 0,
  "metadata": {
    "colab": {
      "name": "pytorch_basics.ipynb",
      "provenance": [],
      "collapsed_sections": [],
      "authorship_tag": "ABX9TyO4QGvO6U+CIcaSCdHKWVF9",
      "include_colab_link": true
    },
    "kernelspec": {
      "name": "python3",
      "display_name": "Python 3"
    },
    "language_info": {
      "name": "python"
    },
    "accelerator": "GPU"
  },
  "cells": [
    {
      "cell_type": "markdown",
      "metadata": {
        "id": "view-in-github",
        "colab_type": "text"
      },
      "source": [
        "<a href=\"https://colab.research.google.com/github/JaganRaja/pytorch_basics/blob/main/pytorch_basics.ipynb\" target=\"_parent\"><img src=\"https://colab.research.google.com/assets/colab-badge.svg\" alt=\"Open In Colab\"/></a>"
      ]
    },
    {
      "cell_type": "code",
      "execution_count": null,
      "metadata": {
        "id": "vN-zdvEnjbg9"
      },
      "outputs": [],
      "source": [
        "#jk"
      ]
    },
    {
      "cell_type": "code",
      "source": [
        "import torch"
      ],
      "metadata": {
        "id": "JIyu833YjhAQ"
      },
      "execution_count": 1,
      "outputs": []
    },
    {
      "cell_type": "code",
      "source": [
        "# tensors\n",
        "t1 = torch.tensor(4.)\n",
        "t1"
      ],
      "metadata": {
        "colab": {
          "base_uri": "https://localhost:8080/"
        },
        "id": "FJOmU4uflRme",
        "outputId": "d1cad695-0f86-48ec-bb85-3e380fb60c95"
      },
      "execution_count": null,
      "outputs": [
        {
          "output_type": "execute_result",
          "data": {
            "text/plain": [
              "tensor(4.)"
            ]
          },
          "metadata": {},
          "execution_count": 7
        }
      ]
    },
    {
      "cell_type": "code",
      "source": [
        "type([4])"
      ],
      "metadata": {
        "colab": {
          "base_uri": "https://localhost:8080/"
        },
        "id": "LBn_dfVjlbu6",
        "outputId": "16fe7919-c15c-44e0-f0b1-f6dff6fdeedd"
      },
      "execution_count": null,
      "outputs": [
        {
          "output_type": "execute_result",
          "data": {
            "text/plain": [
              "list"
            ]
          },
          "metadata": {},
          "execution_count": 8
        }
      ]
    },
    {
      "cell_type": "code",
      "source": [
        "t1.dtype"
      ],
      "metadata": {
        "colab": {
          "base_uri": "https://localhost:8080/"
        },
        "id": "-ohG1PWRn35S",
        "outputId": "c775694f-58b1-4c3e-c6bd-d9f0c021ed34"
      },
      "execution_count": null,
      "outputs": [
        {
          "output_type": "execute_result",
          "data": {
            "text/plain": [
              "torch.float32"
            ]
          },
          "metadata": {},
          "execution_count": 9
        }
      ]
    },
    {
      "cell_type": "code",
      "source": [
        "a1 = torch.tensor(4)\n",
        "a1.dtype"
      ],
      "metadata": {
        "colab": {
          "base_uri": "https://localhost:8080/"
        },
        "id": "mgr4UJVjo2_h",
        "outputId": "aa140c5d-d798-45b5-d59a-5f22a774f70f"
      },
      "execution_count": null,
      "outputs": [
        {
          "output_type": "execute_result",
          "data": {
            "text/plain": [
              "torch.int64"
            ]
          },
          "metadata": {},
          "execution_count": 10
        }
      ]
    },
    {
      "cell_type": "code",
      "source": [
        "# vector\n",
        "\n",
        "t2 = torch.tensor([1.,2.,3.,6])\n",
        "t2"
      ],
      "metadata": {
        "colab": {
          "base_uri": "https://localhost:8080/"
        },
        "id": "Lk_NgExlo7rG",
        "outputId": "0fca4cb9-22a0-45f3-ba74-b0ea6709df38"
      },
      "execution_count": null,
      "outputs": [
        {
          "output_type": "execute_result",
          "data": {
            "text/plain": [
              "tensor([1., 2., 3., 6.])"
            ]
          },
          "metadata": {},
          "execution_count": 12
        }
      ]
    },
    {
      "cell_type": "code",
      "source": [
        "t2.dtype"
      ],
      "metadata": {
        "colab": {
          "base_uri": "https://localhost:8080/"
        },
        "id": "d11rjSAuqH2y",
        "outputId": "75b6aa56-330e-4c6c-cac1-1799fed82c11"
      },
      "execution_count": null,
      "outputs": [
        {
          "output_type": "execute_result",
          "data": {
            "text/plain": [
              "torch.float32"
            ]
          },
          "metadata": {},
          "execution_count": 13
        }
      ]
    },
    {
      "cell_type": "code",
      "source": [
        "# Matrix\n",
        "\n",
        "t3 = torch.tensor(\n",
        "    [\n",
        "     [4.,5.,9.],\n",
        "     [7.,8.,9.],\n",
        "     [1.,2.,3.],\n",
        "\n",
        "    ]\n",
        ")\n",
        "t3"
      ],
      "metadata": {
        "colab": {
          "base_uri": "https://localhost:8080/"
        },
        "id": "N6oaUFj-qPsp",
        "outputId": "bbcda93b-1b84-499b-8413-bda9754d0922"
      },
      "execution_count": null,
      "outputs": [
        {
          "output_type": "execute_result",
          "data": {
            "text/plain": [
              "tensor([[4., 5., 9.],\n",
              "        [7., 8., 9.],\n",
              "        [1., 2., 3.]])"
            ]
          },
          "metadata": {},
          "execution_count": 20
        }
      ]
    },
    {
      "cell_type": "code",
      "source": [
        "  # 3-dim tensors\n",
        "\n",
        "  t4 = torch.tensor([\n",
        "                     [[11,23,45],\n",
        "                      [10,9.,8]],\n",
        "                     [[41.,23,5],\n",
        "                      [11,90,80]]\n",
        "  \n",
        "                \n",
        "  ])\n",
        "\n",
        "  t4"
      ],
      "metadata": {
        "colab": {
          "base_uri": "https://localhost:8080/"
        },
        "id": "cNEck7TjqmNG",
        "outputId": "69cb8510-b3ec-4ed8-cc81-1f303785aa3d"
      },
      "execution_count": null,
      "outputs": [
        {
          "output_type": "execute_result",
          "data": {
            "text/plain": [
              "tensor([[[11., 23., 45.],\n",
              "         [10.,  9.,  8.]],\n",
              "\n",
              "        [[41., 23.,  5.],\n",
              "         [11., 90., 80.]]])"
            ]
          },
          "metadata": {},
          "execution_count": 25
        }
      ]
    },
    {
      "cell_type": "code",
      "source": [
        "print(t1)\n",
        "t1.shape"
      ],
      "metadata": {
        "colab": {
          "base_uri": "https://localhost:8080/"
        },
        "id": "GowIH9iezS-A",
        "outputId": "3e76651f-77ce-4c75-826b-0f345abda8e2"
      },
      "execution_count": null,
      "outputs": [
        {
          "output_type": "stream",
          "name": "stdout",
          "text": [
            "tensor(4.)\n"
          ]
        },
        {
          "output_type": "execute_result",
          "data": {
            "text/plain": [
              "torch.Size([])"
            ]
          },
          "metadata": {},
          "execution_count": 27
        }
      ]
    },
    {
      "cell_type": "code",
      "source": [
        "print(t2)\n",
        "t2.shape"
      ],
      "metadata": {
        "colab": {
          "base_uri": "https://localhost:8080/"
        },
        "id": "CmUTNPXf0rYz",
        "outputId": "f4173950-dad3-41a9-d933-794e4bb7e0af"
      },
      "execution_count": null,
      "outputs": [
        {
          "output_type": "stream",
          "name": "stdout",
          "text": [
            "tensor([1., 2., 3., 6.])\n"
          ]
        },
        {
          "output_type": "execute_result",
          "data": {
            "text/plain": [
              "torch.Size([4])"
            ]
          },
          "metadata": {},
          "execution_count": 28
        }
      ]
    },
    {
      "cell_type": "code",
      "source": [
        "print(t3)\n",
        "t3.shape"
      ],
      "metadata": {
        "colab": {
          "base_uri": "https://localhost:8080/"
        },
        "id": "2dJdci-70zYK",
        "outputId": "925e353a-618a-4a6a-b98f-9c1c5dae59e8"
      },
      "execution_count": null,
      "outputs": [
        {
          "output_type": "stream",
          "name": "stdout",
          "text": [
            "tensor([[4., 5., 9.],\n",
            "        [7., 8., 9.],\n",
            "        [1., 2., 3.]])\n"
          ]
        },
        {
          "output_type": "execute_result",
          "data": {
            "text/plain": [
              "torch.Size([3, 3])"
            ]
          },
          "metadata": {},
          "execution_count": 29
        }
      ]
    },
    {
      "cell_type": "code",
      "source": [
        "print(t4)\n",
        "t4.shape"
      ],
      "metadata": {
        "colab": {
          "base_uri": "https://localhost:8080/"
        },
        "id": "YJnL09zv02j9",
        "outputId": "010c1090-ce1e-4492-d5a9-486614f9681f"
      },
      "execution_count": null,
      "outputs": [
        {
          "output_type": "stream",
          "name": "stdout",
          "text": [
            "tensor([[[11., 23., 45.],\n",
            "         [10.,  9.,  8.]],\n",
            "\n",
            "        [[41., 23.,  5.],\n",
            "         [11., 90., 80.]]])\n"
          ]
        },
        {
          "output_type": "execute_result",
          "data": {
            "text/plain": [
              "torch.Size([2, 2, 3])"
            ]
          },
          "metadata": {},
          "execution_count": 30
        }
      ]
    },
    {
      "cell_type": "code",
      "source": [
        "\n",
        "t5 = torch.tensor(\n",
        "    [\n",
        "     [4.,5.,9.],\n",
        "     [7.,8.]\n",
        "\n",
        "    ]\n",
        ")\n",
        "t5"
      ],
      "metadata": {
        "colab": {
          "base_uri": "https://localhost:8080/",
          "height": 234
        },
        "id": "RPWgozlS06fo",
        "outputId": "0826d0a3-a87e-40fd-d727-4213b1c6167d"
      },
      "execution_count": null,
      "outputs": [
        {
          "output_type": "error",
          "ename": "ValueError",
          "evalue": "ignored",
          "traceback": [
            "\u001b[0;31m---------------------------------------------------------------------------\u001b[0m",
            "\u001b[0;31mValueError\u001b[0m                                Traceback (most recent call last)",
            "\u001b[0;32m<ipython-input-32-e59bc47bd859>\u001b[0m in \u001b[0;36m<module>\u001b[0;34m()\u001b[0m\n\u001b[1;32m      3\u001b[0m     [\n\u001b[1;32m      4\u001b[0m      \u001b[0;34m[\u001b[0m\u001b[0;36m4.\u001b[0m\u001b[0;34m,\u001b[0m\u001b[0;36m5.\u001b[0m\u001b[0;34m,\u001b[0m\u001b[0;36m9.\u001b[0m\u001b[0;34m]\u001b[0m\u001b[0;34m,\u001b[0m\u001b[0;34m\u001b[0m\u001b[0;34m\u001b[0m\u001b[0m\n\u001b[0;32m----> 5\u001b[0;31m      \u001b[0;34m[\u001b[0m\u001b[0;36m7.\u001b[0m\u001b[0;34m,\u001b[0m\u001b[0;36m8.\u001b[0m\u001b[0;34m]\u001b[0m\u001b[0;34m\u001b[0m\u001b[0;34m\u001b[0m\u001b[0m\n\u001b[0m\u001b[1;32m      6\u001b[0m \u001b[0;34m\u001b[0m\u001b[0m\n\u001b[1;32m      7\u001b[0m     ]\n",
            "\u001b[0;31mValueError\u001b[0m: expected sequence of length 3 at dim 1 (got 2)"
          ]
        }
      ]
    },
    {
      "cell_type": "code",
      "source": [
        "# tensors operations\n",
        "\n",
        "x = torch.tensor(3.)\n",
        "w = torch.tensor(4., requires_grad=True)   # trainable parameter so requires_grad=True\n",
        "b = torch.tensor(5., requires_grad=True)   # trainable parammeter so requires_grad=True\n",
        "\n",
        "x,w,b\n"
      ],
      "metadata": {
        "colab": {
          "base_uri": "https://localhost:8080/"
        },
        "id": "M5wECPTB1wlz",
        "outputId": "c2be4741-589b-492b-cc32-56c4ab11853d"
      },
      "execution_count": null,
      "outputs": [
        {
          "output_type": "execute_result",
          "data": {
            "text/plain": [
              "(tensor(3.), tensor(4., requires_grad=True), tensor(5., requires_grad=True))"
            ]
          },
          "metadata": {},
          "execution_count": 33
        }
      ]
    },
    {
      "cell_type": "code",
      "source": [
        "# arithmetic\n",
        "\n",
        "y = w * x + b"
      ],
      "metadata": {
        "id": "scssSwB43Z8j"
      },
      "execution_count": null,
      "outputs": []
    },
    {
      "cell_type": "code",
      "source": [
        "y"
      ],
      "metadata": {
        "colab": {
          "base_uri": "https://localhost:8080/"
        },
        "id": "grdH8XXy5o5T",
        "outputId": "c2d63d2a-db33-4dd1-c1f8-895501f83fe3"
      },
      "execution_count": null,
      "outputs": [
        {
          "output_type": "execute_result",
          "data": {
            "text/plain": [
              "tensor(17., grad_fn=<AddBackward0>)"
            ]
          },
          "metadata": {},
          "execution_count": 35
        }
      ]
    },
    {
      "cell_type": "code",
      "source": [
        "# to find the gradient\n",
        "y.backward()"
      ],
      "metadata": {
        "id": "v7Mbsafw5q6W"
      },
      "execution_count": null,
      "outputs": []
    },
    {
      "cell_type": "code",
      "source": [
        "print('dy/dx:', x.grad)\n",
        "print('dy/dw:', w.grad)\n",
        "print('dy/db:', b.grad)"
      ],
      "metadata": {
        "colab": {
          "base_uri": "https://localhost:8080/"
        },
        "id": "1O0p5rjj58G_",
        "outputId": "620318df-3354-43be-c0b1-4ef114bf49d4"
      },
      "execution_count": null,
      "outputs": [
        {
          "output_type": "stream",
          "name": "stdout",
          "text": [
            "dy/dx: None\n",
            "dy/dw: tensor(3.)\n",
            "dy/db: tensor(1.)\n"
          ]
        }
      ]
    },
    {
      "cell_type": "code",
      "source": [
        "# tensor function\n",
        "\n",
        "# creating matirx\n",
        "t6 = torch.full((3,2), 22)\n",
        "t6"
      ],
      "metadata": {
        "colab": {
          "base_uri": "https://localhost:8080/"
        },
        "id": "vMXv0Kpo6Scv",
        "outputId": "7dda1498-d833-49c9-c9b8-cd8bec6de641"
      },
      "execution_count": null,
      "outputs": [
        {
          "output_type": "execute_result",
          "data": {
            "text/plain": [
              "tensor([[22, 22],\n",
              "        [22, 22],\n",
              "        [22, 22]])"
            ]
          },
          "metadata": {},
          "execution_count": 39
        }
      ]
    },
    {
      "cell_type": "code",
      "source": [
        "t6 = torch.full((3,3), 0)\n",
        "t6"
      ],
      "metadata": {
        "colab": {
          "base_uri": "https://localhost:8080/"
        },
        "id": "qxvufPef7tnN",
        "outputId": "c26b646d-d782-4c98-f98c-53048cb6e9d3"
      },
      "execution_count": null,
      "outputs": [
        {
          "output_type": "execute_result",
          "data": {
            "text/plain": [
              "tensor([[0, 0, 0],\n",
              "        [0, 0, 0],\n",
              "        [0, 0, 0]])"
            ]
          },
          "metadata": {},
          "execution_count": 41
        }
      ]
    },
    {
      "cell_type": "code",
      "source": [
        "# concat\n",
        "\n",
        "t7 = torch.cat((t3, t6))\n",
        "t7"
      ],
      "metadata": {
        "colab": {
          "base_uri": "https://localhost:8080/"
        },
        "id": "zy6uOHKI7z0o",
        "outputId": "11324d80-0665-4b6a-a7bf-b95a2ad5b6b4"
      },
      "execution_count": null,
      "outputs": [
        {
          "output_type": "execute_result",
          "data": {
            "text/plain": [
              "tensor([[4., 5., 9.],\n",
              "        [7., 8., 9.],\n",
              "        [1., 2., 3.],\n",
              "        [0., 0., 0.],\n",
              "        [0., 0., 0.],\n",
              "        [0., 0., 0.]])"
            ]
          },
          "metadata": {},
          "execution_count": 44
        }
      ]
    },
    {
      "cell_type": "code",
      "source": [
        "t8 = torch.sin(t7)\n",
        "t8"
      ],
      "metadata": {
        "colab": {
          "base_uri": "https://localhost:8080/"
        },
        "id": "fDVr2HPd8YgX",
        "outputId": "69776d9a-28cb-4b0b-8000-a91565e24bb9"
      },
      "execution_count": null,
      "outputs": [
        {
          "output_type": "execute_result",
          "data": {
            "text/plain": [
              "tensor([[-0.7568, -0.9589,  0.4121],\n",
              "        [ 0.6570,  0.9894,  0.4121],\n",
              "        [ 0.8415,  0.9093,  0.1411],\n",
              "        [ 0.0000,  0.0000,  0.0000],\n",
              "        [ 0.0000,  0.0000,  0.0000],\n",
              "        [ 0.0000,  0.0000,  0.0000]])"
            ]
          },
          "metadata": {},
          "execution_count": 46
        }
      ]
    },
    {
      "cell_type": "code",
      "source": [
        "t9 = t8.reshape(3,6,1)\n",
        "t9"
      ],
      "metadata": {
        "colab": {
          "base_uri": "https://localhost:8080/"
        },
        "id": "JF5yca3S8zfL",
        "outputId": "3c8eafaa-68c3-462b-8a4d-5fa5aedd9283"
      },
      "execution_count": null,
      "outputs": [
        {
          "output_type": "execute_result",
          "data": {
            "text/plain": [
              "tensor([[[-0.7568],\n",
              "         [-0.9589],\n",
              "         [ 0.4121],\n",
              "         [ 0.6570],\n",
              "         [ 0.9894],\n",
              "         [ 0.4121]],\n",
              "\n",
              "        [[ 0.8415],\n",
              "         [ 0.9093],\n",
              "         [ 0.1411],\n",
              "         [ 0.0000],\n",
              "         [ 0.0000],\n",
              "         [ 0.0000]],\n",
              "\n",
              "        [[ 0.0000],\n",
              "         [ 0.0000],\n",
              "         [ 0.0000],\n",
              "         [ 0.0000],\n",
              "         [ 0.0000],\n",
              "         [ 0.0000]]])"
            ]
          },
          "metadata": {},
          "execution_count": 49
        }
      ]
    },
    {
      "cell_type": "code",
      "source": [
        "# interoperability with numpy\n",
        "\n",
        "import numpy as np\n",
        "\n",
        "x = np.array([[1,3], [8,7]])\n",
        "\n",
        "x"
      ],
      "metadata": {
        "colab": {
          "base_uri": "https://localhost:8080/"
        },
        "id": "TqfpAv_E9M5u",
        "outputId": "8d680562-e0d1-43d6-e396-4469e2d9d584"
      },
      "execution_count": null,
      "outputs": [
        {
          "output_type": "execute_result",
          "data": {
            "text/plain": [
              "array([[1, 3],\n",
              "       [8, 7]])"
            ]
          },
          "metadata": {},
          "execution_count": 50
        }
      ]
    },
    {
      "cell_type": "code",
      "source": [
        "y = torch.from_numpy(x)\n",
        "y"
      ],
      "metadata": {
        "colab": {
          "base_uri": "https://localhost:8080/"
        },
        "id": "T3ff6V2e_raE",
        "outputId": "c46de8b9-41d3-4b0d-c9ca-7be70da039ae"
      },
      "execution_count": null,
      "outputs": [
        {
          "output_type": "execute_result",
          "data": {
            "text/plain": [
              "tensor([[1, 3],\n",
              "        [8, 7]])"
            ]
          },
          "metadata": {},
          "execution_count": 52
        }
      ]
    },
    {
      "cell_type": "code",
      "source": [
        "y.numpy()"
      ],
      "metadata": {
        "colab": {
          "base_uri": "https://localhost:8080/"
        },
        "id": "soyQQff8_2s7",
        "outputId": "33274973-0639-4c92-d4b2-9ed03e60c47f"
      },
      "execution_count": null,
      "outputs": [
        {
          "output_type": "execute_result",
          "data": {
            "text/plain": [
              "array([[1, 3],\n",
              "       [8, 7]])"
            ]
          },
          "metadata": {},
          "execution_count": 53
        }
      ]
    },
    {
      "cell_type": "code",
      "source": [
        ""
      ],
      "metadata": {
        "id": "_D-hqfcTAC8Z"
      },
      "execution_count": null,
      "outputs": []
    },
    {
      "cell_type": "code",
      "source": [
        ""
      ],
      "metadata": {
        "id": "yZyH0kgyljmM"
      },
      "execution_count": null,
      "outputs": []
    },
    {
      "cell_type": "code",
      "source": [
        "# Linear regression"
      ],
      "metadata": {
        "id": "WtPCgE-Uljyh"
      },
      "execution_count": null,
      "outputs": []
    },
    {
      "cell_type": "code",
      "source": [
        " !nvidia-smi"
      ],
      "metadata": {
        "colab": {
          "base_uri": "https://localhost:8080/"
        },
        "id": "F3tQ7q_WlnD3",
        "outputId": "39bc86ec-47f8-4e4c-ae1f-eae1f2400792"
      },
      "execution_count": null,
      "outputs": [
        {
          "output_type": "stream",
          "name": "stdout",
          "text": [
            "Mon Apr 25 14:17:11 2022       \n",
            "+-----------------------------------------------------------------------------+\n",
            "| NVIDIA-SMI 460.32.03    Driver Version: 460.32.03    CUDA Version: 11.2     |\n",
            "|-------------------------------+----------------------+----------------------+\n",
            "| GPU  Name        Persistence-M| Bus-Id        Disp.A | Volatile Uncorr. ECC |\n",
            "| Fan  Temp  Perf  Pwr:Usage/Cap|         Memory-Usage | GPU-Util  Compute M. |\n",
            "|                               |                      |               MIG M. |\n",
            "|===============================+======================+======================|\n",
            "|   0  Tesla K80           Off  | 00000000:00:04.0 Off |                    0 |\n",
            "| N/A   74C    P8    34W / 149W |      0MiB / 11441MiB |      0%      Default |\n",
            "|                               |                      |                  N/A |\n",
            "+-------------------------------+----------------------+----------------------+\n",
            "                                                                               \n",
            "+-----------------------------------------------------------------------------+\n",
            "| Processes:                                                                  |\n",
            "|  GPU   GI   CI        PID   Type   Process name                  GPU Memory |\n",
            "|        ID   ID                                                   Usage      |\n",
            "|=============================================================================|\n",
            "|  No running processes found                                                 |\n",
            "+-----------------------------------------------------------------------------+\n"
          ]
        }
      ]
    },
    {
      "cell_type": "code",
      "source": [
        "import numpy as np\n",
        "import torch"
      ],
      "metadata": {
        "id": "Zs0Dp4rIFVjb"
      },
      "execution_count": null,
      "outputs": []
    },
    {
      "cell_type": "code",
      "source": [
        "# input data\n",
        "input = np.array([[32, 55, 77],\n",
        "                  [31, 75, 57],\n",
        "                  [52, 55, 77],\n",
        "                  [22, 100, 87],\n",
        "                  [62, 80, 77]\n",
        "                  ], dtype='float32')\n",
        "input"
      ],
      "metadata": {
        "colab": {
          "base_uri": "https://localhost:8080/"
        },
        "id": "8Wx42OJjFe2C",
        "outputId": "94c1516b-ecf6-4b2c-f749-b7e2edfc00ae"
      },
      "execution_count": null,
      "outputs": [
        {
          "output_type": "execute_result",
          "data": {
            "text/plain": [
              "array([[ 32.,  55.,  77.],\n",
              "       [ 31.,  75.,  57.],\n",
              "       [ 52.,  55.,  77.],\n",
              "       [ 22., 100.,  87.],\n",
              "       [ 62.,  80.,  77.]], dtype=float32)"
            ]
          },
          "metadata": {},
          "execution_count": 4
        }
      ]
    },
    {
      "cell_type": "code",
      "source": [
        "# target\n",
        "targets = np.array([\n",
        "                    [32,66],\n",
        "                    [52,76],\n",
        "                    [102,155],\n",
        "                    [32,26],\n",
        "                    [99,100]\n",
        "                    ], dtype='float32')\n",
        "\n",
        "targets"
      ],
      "metadata": {
        "colab": {
          "base_uri": "https://localhost:8080/"
        },
        "id": "k0qLyscJGaTK",
        "outputId": "6048c9e9-ade8-47bd-9b7c-6b92f5f46898"
      },
      "execution_count": null,
      "outputs": [
        {
          "output_type": "execute_result",
          "data": {
            "text/plain": [
              "array([[ 32.,  66.],\n",
              "       [ 52.,  76.],\n",
              "       [102., 155.],\n",
              "       [ 32.,  26.],\n",
              "       [ 99., 100.]], dtype=float32)"
            ]
          },
          "metadata": {},
          "execution_count": 5
        }
      ]
    },
    {
      "cell_type": "code",
      "source": [
        "input = torch.from_numpy(input)\n",
        "targets = torch.from_numpy(targets)\n",
        "\n",
        "print(input)\n",
        "print(targets)"
      ],
      "metadata": {
        "colab": {
          "base_uri": "https://localhost:8080/"
        },
        "id": "3mX_oiDJHOVP",
        "outputId": "e91bfac8-71d0-4a83-abb5-05a108bbb607"
      },
      "execution_count": null,
      "outputs": [
        {
          "output_type": "stream",
          "name": "stdout",
          "text": [
            "tensor([[ 32.,  55.,  77.],\n",
            "        [ 31.,  75.,  57.],\n",
            "        [ 52.,  55.,  77.],\n",
            "        [ 22., 100.,  87.],\n",
            "        [ 62.,  80.,  77.]])\n",
            "tensor([[ 32.,  66.],\n",
            "        [ 52.,  76.],\n",
            "        [102., 155.],\n",
            "        [ 32.,  26.],\n",
            "        [ 99., 100.]])\n"
          ]
        }
      ]
    },
    {
      "cell_type": "code",
      "source": [
        "# weights & biases\n",
        "\n",
        "w = torch.randn(2, 3, requires_grad=True)\n",
        "w"
      ],
      "metadata": {
        "colab": {
          "base_uri": "https://localhost:8080/"
        },
        "id": "QVwtTWTHbVPq",
        "outputId": "d52375ed-fe3e-43fc-b158-92320fb17f30"
      },
      "execution_count": null,
      "outputs": [
        {
          "output_type": "execute_result",
          "data": {
            "text/plain": [
              "tensor([[ 0.7730, -0.3888, -1.7635],\n",
              "        [-0.1583,  1.4254,  1.5216]], requires_grad=True)"
            ]
          },
          "metadata": {},
          "execution_count": 7
        }
      ]
    },
    {
      "cell_type": "code",
      "source": [
        "b = torch.randn(2, requires_grad=True)\n",
        "b"
      ],
      "metadata": {
        "colab": {
          "base_uri": "https://localhost:8080/"
        },
        "id": "V8Ydu3irc5lu",
        "outputId": "8b1a4644-81f4-49cf-c773-c4b3a31a017f"
      },
      "execution_count": null,
      "outputs": [
        {
          "output_type": "execute_result",
          "data": {
            "text/plain": [
              "tensor([ 1.4330, -0.0300], requires_grad=True)"
            ]
          },
          "metadata": {},
          "execution_count": 8
        }
      ]
    },
    {
      "cell_type": "code",
      "source": [
        "# w transpose to multiply with x\n",
        "# y = x * w^T + b\n",
        "\n",
        "def model(x):\n",
        "  return x @ w.t() + b\n"
      ],
      "metadata": {
        "id": "PeADojRCdOYz"
      },
      "execution_count": null,
      "outputs": []
    },
    {
      "cell_type": "code",
      "source": [
        "preds = model(input)\n",
        "print(preds)"
      ],
      "metadata": {
        "colab": {
          "base_uri": "https://localhost:8080/"
        },
        "id": "uec0IjgAfEhY",
        "outputId": "ef976a63-67e2-412a-85d2-ca4556696eeb"
      },
      "execution_count": null,
      "outputs": [
        {
          "output_type": "stream",
          "name": "stdout",
          "text": [
            "tensor([[-131.0010,  190.4638],\n",
            "        [-104.2798,  188.6976],\n",
            "        [-115.5403,  187.2982],\n",
            "        [-173.8611,  271.4044],\n",
            "        [-117.5292,  221.3498]], grad_fn=<AddBackward0>)\n"
          ]
        }
      ]
    },
    {
      "cell_type": "code",
      "source": [
        "targets"
      ],
      "metadata": {
        "colab": {
          "base_uri": "https://localhost:8080/"
        },
        "id": "oteevFAlfRIl",
        "outputId": "2ea85afb-54c2-4a38-b3ad-3d46d578559c"
      },
      "execution_count": null,
      "outputs": [
        {
          "output_type": "execute_result",
          "data": {
            "text/plain": [
              "tensor([[ 32.,  66.],\n",
              "        [ 52.,  76.],\n",
              "        [102., 155.],\n",
              "        [ 32.,  26.],\n",
              "        [ 99., 100.]])"
            ]
          },
          "metadata": {},
          "execution_count": 11
        }
      ]
    },
    {
      "cell_type": "code",
      "source": [
        "# loss\n",
        "\n",
        "def MSE(t1, t2):\n",
        "  diff = t1 - t2\n",
        "  return torch.sum(diff * diff) / diff.numel()\n"
      ],
      "metadata": {
        "id": "WAtVcwtefd0C"
      },
      "execution_count": null,
      "outputs": []
    },
    {
      "cell_type": "code",
      "source": [
        "# compute the loss\n",
        "loss = MSE(preds, targets)\n",
        "loss"
      ],
      "metadata": {
        "colab": {
          "base_uri": "https://localhost:8080/"
        },
        "id": "0XQu2sstgROm",
        "outputId": "dfcfa0ac-bb69-4f2c-f597-fa953e480b90"
      },
      "execution_count": null,
      "outputs": [
        {
          "output_type": "execute_result",
          "data": {
            "text/plain": [
              "tensor(29176.4473, grad_fn=<DivBackward0>)"
            ]
          },
          "metadata": {},
          "execution_count": 13
        }
      ]
    },
    {
      "cell_type": "code",
      "source": [
        "# compute gradient\n",
        "loss.backward()"
      ],
      "metadata": {
        "id": "wjOC3LOSgnmV"
      },
      "execution_count": null,
      "outputs": []
    },
    {
      "cell_type": "code",
      "source": [
        "print(w)\n",
        "print(w.grad)"
      ],
      "metadata": {
        "colab": {
          "base_uri": "https://localhost:8080/"
        },
        "id": "6rnreiMehAle",
        "outputId": "2091f579-bdaa-4061-e0d5-7fb9207220d4"
      },
      "execution_count": null,
      "outputs": [
        {
          "output_type": "stream",
          "name": "stdout",
          "text": [
            "tensor([[ 0.7730, -0.3888, -1.7635],\n",
            "        [-0.1583,  1.4254,  1.5216]], requires_grad=True)\n",
            "tensor([[ -7865.3110, -14111.8408, -14558.4590],\n",
            "        [  4415.7114,  10264.5312,   9837.7119]])\n"
          ]
        }
      ]
    },
    {
      "cell_type": "code",
      "source": [
        "with torch.no_grad():\n",
        "  w -= w.grad * 1e-5  # w(new) = w(old) - learning_rate * (de/dw)  .. here de -> loss function\n",
        "  b -= b.grad * 1e-5  # b(new) = b(old) - learning_rate * (de/db)  .. here de -> loss function"
      ],
      "metadata": {
        "id": "xOdVrTllhHsW"
      },
      "execution_count": null,
      "outputs": []
    },
    {
      "cell_type": "code",
      "source": [
        "print(w) # weights changed.. based on above code"
      ],
      "metadata": {
        "colab": {
          "base_uri": "https://localhost:8080/"
        },
        "id": "dwQBYo-3H_op",
        "outputId": "06170004-4663-4a3a-a97a-3157550b655c"
      },
      "execution_count": null,
      "outputs": [
        {
          "output_type": "stream",
          "name": "stdout",
          "text": [
            "tensor([[ 0.8517, -0.2477, -1.6179],\n",
            "        [-0.2024,  1.3227,  1.4232]], requires_grad=True)\n"
          ]
        }
      ]
    },
    {
      "cell_type": "code",
      "source": [
        "\n",
        "preds = model(input)\n",
        "print(preds)\n"
      ],
      "metadata": {
        "colab": {
          "base_uri": "https://localhost:8080/"
        },
        "id": "JU8OChgGIA6X",
        "outputId": "c764220b-b15a-4f34-bb80-e694557b0cf8"
      },
      "execution_count": null,
      "outputs": [
        {
          "output_type": "stream",
          "name": "stdout",
          "text": [
            "tensor([[-109.5107,  175.8289],\n",
            "        [ -82.9574,  174.0216],\n",
            "        [ -92.4769,  171.7802],\n",
            "        [-145.3512,  251.6084],\n",
            "        [ -90.1514,  202.8241]], grad_fn=<AddBackward0>)\n"
          ]
        }
      ]
    },
    {
      "cell_type": "code",
      "source": [
        "# compute the loss\n",
        "loss = MSE(preds, targets)\n",
        "loss"
      ],
      "metadata": {
        "colab": {
          "base_uri": "https://localhost:8080/"
        },
        "id": "_MwbxpcDJX4a",
        "outputId": "af9776dc-5a09-4215-e589-1e26f10dc982"
      },
      "execution_count": null,
      "outputs": [
        {
          "output_type": "execute_result",
          "data": {
            "text/plain": [
              "tensor(22671.5879, grad_fn=<DivBackward0>)"
            ]
          },
          "metadata": {},
          "execution_count": 19
        }
      ]
    },
    {
      "cell_type": "code",
      "source": [
        "# training \n",
        "n = 400\n",
        "for i in range(n):\n",
        "  preds = model(input)\n",
        "  loss = MSE(preds, targets)\n",
        "\n",
        "  loss.backward()\n",
        "\n",
        "  with torch.no_grad():\n",
        "    w -= w.grad * 1e-5 \n",
        "    b -= b.grad * 1e-5 \n",
        "    w.grad.zero_()\n",
        "    b.grad.zero_()\n",
        "  \n",
        "  print(f\"Epochs:  {i}/{n} ---- loss: {loss}\")\n"
      ],
      "metadata": {
        "colab": {
          "base_uri": "https://localhost:8080/"
        },
        "id": "nBr-Jr2rJYwH",
        "outputId": "d8a05e0b-5194-4c77-f37d-c435c44579eb"
      },
      "execution_count": null,
      "outputs": [
        {
          "output_type": "stream",
          "name": "stdout",
          "text": [
            "Epochs:  0/400 ---- loss: 563.5936889648438\n",
            "Epochs:  1/400 ---- loss: 562.12060546875\n",
            "Epochs:  2/400 ---- loss: 560.6566162109375\n",
            "Epochs:  3/400 ---- loss: 559.2015991210938\n",
            "Epochs:  4/400 ---- loss: 557.75537109375\n",
            "Epochs:  5/400 ---- loss: 556.3180541992188\n",
            "Epochs:  6/400 ---- loss: 554.8895263671875\n",
            "Epochs:  7/400 ---- loss: 553.4699096679688\n",
            "Epochs:  8/400 ---- loss: 552.058837890625\n",
            "Epochs:  9/400 ---- loss: 550.656494140625\n",
            "Epochs:  10/400 ---- loss: 549.2626953125\n",
            "Epochs:  11/400 ---- loss: 547.8773193359375\n",
            "Epochs:  12/400 ---- loss: 546.5006103515625\n",
            "Epochs:  13/400 ---- loss: 545.13232421875\n",
            "Epochs:  14/400 ---- loss: 543.7723999023438\n",
            "Epochs:  15/400 ---- loss: 542.4208374023438\n",
            "Epochs:  16/400 ---- loss: 541.0775146484375\n",
            "Epochs:  17/400 ---- loss: 539.7423706054688\n",
            "Epochs:  18/400 ---- loss: 538.4154663085938\n",
            "Epochs:  19/400 ---- loss: 537.0966796875\n",
            "Epochs:  20/400 ---- loss: 535.7860107421875\n",
            "Epochs:  21/400 ---- loss: 534.4832763671875\n",
            "Epochs:  22/400 ---- loss: 533.1885986328125\n",
            "Epochs:  23/400 ---- loss: 531.9017944335938\n",
            "Epochs:  24/400 ---- loss: 530.6229858398438\n",
            "Epochs:  25/400 ---- loss: 529.3519287109375\n",
            "Epochs:  26/400 ---- loss: 528.0885620117188\n",
            "Epochs:  27/400 ---- loss: 526.8331298828125\n",
            "Epochs:  28/400 ---- loss: 525.5852661132812\n",
            "Epochs:  29/400 ---- loss: 524.3450317382812\n",
            "Epochs:  30/400 ---- loss: 523.1124267578125\n",
            "Epochs:  31/400 ---- loss: 521.887451171875\n",
            "Epochs:  32/400 ---- loss: 520.6697998046875\n",
            "Epochs:  33/400 ---- loss: 519.4597778320312\n",
            "Epochs:  34/400 ---- loss: 518.2570190429688\n",
            "Epochs:  35/400 ---- loss: 517.0617065429688\n",
            "Epochs:  36/400 ---- loss: 515.8737182617188\n",
            "Epochs:  37/400 ---- loss: 514.6929321289062\n",
            "Epochs:  38/400 ---- loss: 513.5194091796875\n",
            "Epochs:  39/400 ---- loss: 512.3530883789062\n",
            "Epochs:  40/400 ---- loss: 511.19384765625\n",
            "Epochs:  41/400 ---- loss: 510.04180908203125\n",
            "Epochs:  42/400 ---- loss: 508.8966369628906\n",
            "Epochs:  43/400 ---- loss: 507.7586975097656\n",
            "Epochs:  44/400 ---- loss: 506.6275939941406\n",
            "Epochs:  45/400 ---- loss: 505.50341796875\n",
            "Epochs:  46/400 ---- loss: 504.38616943359375\n",
            "Epochs:  47/400 ---- loss: 503.27569580078125\n",
            "Epochs:  48/400 ---- loss: 502.1719665527344\n",
            "Epochs:  49/400 ---- loss: 501.0751037597656\n",
            "Epochs:  50/400 ---- loss: 499.98486328125\n",
            "Epochs:  51/400 ---- loss: 498.9013671875\n",
            "Epochs:  52/400 ---- loss: 497.824462890625\n",
            "Epochs:  53/400 ---- loss: 496.7539978027344\n",
            "Epochs:  54/400 ---- loss: 495.6903381347656\n",
            "Epochs:  55/400 ---- loss: 494.633056640625\n",
            "Epochs:  56/400 ---- loss: 493.58233642578125\n",
            "Epochs:  57/400 ---- loss: 492.53778076171875\n",
            "Epochs:  58/400 ---- loss: 491.4998474121094\n",
            "Epochs:  59/400 ---- loss: 490.4681701660156\n",
            "Epochs:  60/400 ---- loss: 489.4427795410156\n",
            "Epochs:  61/400 ---- loss: 488.423828125\n",
            "Epochs:  62/400 ---- loss: 487.41094970703125\n",
            "Epochs:  63/400 ---- loss: 486.4042053222656\n",
            "Epochs:  64/400 ---- loss: 485.4037170410156\n",
            "Epochs:  65/400 ---- loss: 484.40936279296875\n",
            "Epochs:  66/400 ---- loss: 483.42108154296875\n",
            "Epochs:  67/400 ---- loss: 482.4388122558594\n",
            "Epochs:  68/400 ---- loss: 481.4624938964844\n",
            "Epochs:  69/400 ---- loss: 480.49224853515625\n",
            "Epochs:  70/400 ---- loss: 479.52783203125\n",
            "Epochs:  71/400 ---- loss: 478.5694885253906\n",
            "Epochs:  72/400 ---- loss: 477.61669921875\n",
            "Epochs:  73/400 ---- loss: 476.66986083984375\n",
            "Epochs:  74/400 ---- loss: 475.728759765625\n",
            "Epochs:  75/400 ---- loss: 474.79364013671875\n",
            "Epochs:  76/400 ---- loss: 473.864013671875\n",
            "Epochs:  77/400 ---- loss: 472.9400939941406\n",
            "Epochs:  78/400 ---- loss: 472.0218811035156\n",
            "Epochs:  79/400 ---- loss: 471.1092224121094\n",
            "Epochs:  80/400 ---- loss: 470.2020568847656\n",
            "Epochs:  81/400 ---- loss: 469.30072021484375\n",
            "Epochs:  82/400 ---- loss: 468.40460205078125\n",
            "Epochs:  83/400 ---- loss: 467.5140075683594\n",
            "Epochs:  84/400 ---- loss: 466.62890625\n",
            "Epochs:  85/400 ---- loss: 465.7491760253906\n",
            "Epochs:  86/400 ---- loss: 464.87481689453125\n",
            "Epochs:  87/400 ---- loss: 464.005859375\n",
            "Epochs:  88/400 ---- loss: 463.14215087890625\n",
            "Epochs:  89/400 ---- loss: 462.28363037109375\n",
            "Epochs:  90/400 ---- loss: 461.430419921875\n",
            "Epochs:  91/400 ---- loss: 460.58245849609375\n",
            "Epochs:  92/400 ---- loss: 459.73968505859375\n",
            "Epochs:  93/400 ---- loss: 458.9019470214844\n",
            "Epochs:  94/400 ---- loss: 458.06939697265625\n",
            "Epochs:  95/400 ---- loss: 457.24188232421875\n",
            "Epochs:  96/400 ---- loss: 456.41937255859375\n",
            "Epochs:  97/400 ---- loss: 455.60198974609375\n",
            "Epochs:  98/400 ---- loss: 454.78961181640625\n",
            "Epochs:  99/400 ---- loss: 453.9820251464844\n",
            "Epochs:  100/400 ---- loss: 453.1795349121094\n",
            "Epochs:  101/400 ---- loss: 452.3818359375\n",
            "Epochs:  102/400 ---- loss: 451.5890197753906\n",
            "Epochs:  103/400 ---- loss: 450.80108642578125\n",
            "Epochs:  104/400 ---- loss: 450.01788330078125\n",
            "Epochs:  105/400 ---- loss: 449.2395935058594\n",
            "Epochs:  106/400 ---- loss: 448.46588134765625\n",
            "Epochs:  107/400 ---- loss: 447.6968688964844\n",
            "Epochs:  108/400 ---- loss: 446.93267822265625\n",
            "Epochs:  109/400 ---- loss: 446.17303466796875\n",
            "Epochs:  110/400 ---- loss: 445.4181213378906\n",
            "Epochs:  111/400 ---- loss: 444.6678161621094\n",
            "Epochs:  112/400 ---- loss: 443.92205810546875\n",
            "Epochs:  113/400 ---- loss: 443.1808166503906\n",
            "Epochs:  114/400 ---- loss: 442.44403076171875\n",
            "Epochs:  115/400 ---- loss: 441.71185302734375\n",
            "Epochs:  116/400 ---- loss: 440.9839782714844\n",
            "Epochs:  117/400 ---- loss: 440.2606506347656\n",
            "Epochs:  118/400 ---- loss: 439.541748046875\n",
            "Epochs:  119/400 ---- loss: 438.8271484375\n",
            "Epochs:  120/400 ---- loss: 438.116943359375\n",
            "Epochs:  121/400 ---- loss: 437.41119384765625\n",
            "Epochs:  122/400 ---- loss: 436.7095642089844\n",
            "Epochs:  123/400 ---- loss: 436.01214599609375\n",
            "Epochs:  124/400 ---- loss: 435.31915283203125\n",
            "Epochs:  125/400 ---- loss: 434.6302795410156\n",
            "Epochs:  126/400 ---- loss: 433.94549560546875\n",
            "Epochs:  127/400 ---- loss: 433.2650451660156\n",
            "Epochs:  128/400 ---- loss: 432.5887756347656\n",
            "Epochs:  129/400 ---- loss: 431.91650390625\n",
            "Epochs:  130/400 ---- loss: 431.24835205078125\n",
            "Epochs:  131/400 ---- loss: 430.5843200683594\n",
            "Epochs:  132/400 ---- loss: 429.9242248535156\n",
            "Epochs:  133/400 ---- loss: 429.2682189941406\n",
            "Epochs:  134/400 ---- loss: 428.6162109375\n",
            "Epochs:  135/400 ---- loss: 427.9681701660156\n",
            "Epochs:  136/400 ---- loss: 427.3240661621094\n",
            "Epochs:  137/400 ---- loss: 426.68377685546875\n",
            "Epochs:  138/400 ---- loss: 426.0475158691406\n",
            "Epochs:  139/400 ---- loss: 425.4150390625\n",
            "Epochs:  140/400 ---- loss: 424.78643798828125\n",
            "Epochs:  141/400 ---- loss: 424.16168212890625\n",
            "Epochs:  142/400 ---- loss: 423.54071044921875\n",
            "Epochs:  143/400 ---- loss: 422.9234313964844\n",
            "Epochs:  144/400 ---- loss: 422.31011962890625\n",
            "Epochs:  145/400 ---- loss: 421.7002868652344\n",
            "Epochs:  146/400 ---- loss: 421.0943298339844\n",
            "Epochs:  147/400 ---- loss: 420.491943359375\n",
            "Epochs:  148/400 ---- loss: 419.89337158203125\n",
            "Epochs:  149/400 ---- loss: 419.29827880859375\n",
            "Epochs:  150/400 ---- loss: 418.70684814453125\n",
            "Epochs:  151/400 ---- loss: 418.1189880371094\n",
            "Epochs:  152/400 ---- loss: 417.5347595214844\n",
            "Epochs:  153/400 ---- loss: 416.95404052734375\n",
            "Epochs:  154/400 ---- loss: 416.376953125\n",
            "Epochs:  155/400 ---- loss: 415.80316162109375\n",
            "Epochs:  156/400 ---- loss: 415.2330627441406\n",
            "Epochs:  157/400 ---- loss: 414.666259765625\n",
            "Epochs:  158/400 ---- loss: 414.1029357910156\n",
            "Epochs:  159/400 ---- loss: 413.5431213378906\n",
            "Epochs:  160/400 ---- loss: 412.9866638183594\n",
            "Epochs:  161/400 ---- loss: 412.43353271484375\n",
            "Epochs:  162/400 ---- loss: 411.8837890625\n",
            "Epochs:  163/400 ---- loss: 411.33740234375\n",
            "Epochs:  164/400 ---- loss: 410.7943420410156\n",
            "Epochs:  165/400 ---- loss: 410.2545471191406\n",
            "Epochs:  166/400 ---- loss: 409.71795654296875\n",
            "Epochs:  167/400 ---- loss: 409.18475341796875\n",
            "Epochs:  168/400 ---- loss: 408.65472412109375\n",
            "Epochs:  169/400 ---- loss: 408.1278991699219\n",
            "Epochs:  170/400 ---- loss: 407.6043701171875\n",
            "Epochs:  171/400 ---- loss: 407.0838623046875\n",
            "Epochs:  172/400 ---- loss: 406.5664978027344\n",
            "Epochs:  173/400 ---- loss: 406.05242919921875\n",
            "Epochs:  174/400 ---- loss: 405.54144287109375\n",
            "Epochs:  175/400 ---- loss: 405.0334167480469\n",
            "Epochs:  176/400 ---- loss: 404.5286560058594\n",
            "Epochs:  177/400 ---- loss: 404.0268249511719\n",
            "Epochs:  178/400 ---- loss: 403.5281066894531\n",
            "Epochs:  179/400 ---- loss: 403.0323181152344\n",
            "Epochs:  180/400 ---- loss: 402.53961181640625\n",
            "Epochs:  181/400 ---- loss: 402.04986572265625\n",
            "Epochs:  182/400 ---- loss: 401.56304931640625\n",
            "Epochs:  183/400 ---- loss: 401.0792541503906\n",
            "Epochs:  184/400 ---- loss: 400.59832763671875\n",
            "Epochs:  185/400 ---- loss: 400.12030029296875\n",
            "Epochs:  186/400 ---- loss: 399.645263671875\n",
            "Epochs:  187/400 ---- loss: 399.173095703125\n",
            "Epochs:  188/400 ---- loss: 398.7037048339844\n",
            "Epochs:  189/400 ---- loss: 398.2371520996094\n",
            "Epochs:  190/400 ---- loss: 397.7735290527344\n",
            "Epochs:  191/400 ---- loss: 397.3126525878906\n",
            "Epochs:  192/400 ---- loss: 396.8545837402344\n",
            "Epochs:  193/400 ---- loss: 396.3992614746094\n",
            "Epochs:  194/400 ---- loss: 395.94671630859375\n",
            "Epochs:  195/400 ---- loss: 395.49688720703125\n",
            "Epochs:  196/400 ---- loss: 395.0498352050781\n",
            "Epochs:  197/400 ---- loss: 394.60540771484375\n",
            "Epochs:  198/400 ---- loss: 394.1636657714844\n",
            "Epochs:  199/400 ---- loss: 393.7246398925781\n",
            "Epochs:  200/400 ---- loss: 393.28826904296875\n",
            "Epochs:  201/400 ---- loss: 392.8545227050781\n",
            "Epochs:  202/400 ---- loss: 392.4234619140625\n",
            "Epochs:  203/400 ---- loss: 391.994873046875\n",
            "Epochs:  204/400 ---- loss: 391.5690002441406\n",
            "Epochs:  205/400 ---- loss: 391.1455993652344\n",
            "Epochs:  206/400 ---- loss: 390.72479248046875\n",
            "Epochs:  207/400 ---- loss: 390.3065490722656\n",
            "Epochs:  208/400 ---- loss: 389.89093017578125\n",
            "Epochs:  209/400 ---- loss: 389.47772216796875\n",
            "Epochs:  210/400 ---- loss: 389.0669860839844\n",
            "Epochs:  211/400 ---- loss: 388.65869140625\n",
            "Epochs:  212/400 ---- loss: 388.25299072265625\n",
            "Epochs:  213/400 ---- loss: 387.84967041015625\n",
            "Epochs:  214/400 ---- loss: 387.44873046875\n",
            "Epochs:  215/400 ---- loss: 387.05035400390625\n",
            "Epochs:  216/400 ---- loss: 386.65423583984375\n",
            "Epochs:  217/400 ---- loss: 386.2606201171875\n",
            "Epochs:  218/400 ---- loss: 385.86932373046875\n",
            "Epochs:  219/400 ---- loss: 385.48040771484375\n",
            "Epochs:  220/400 ---- loss: 385.0938720703125\n",
            "Epochs:  221/400 ---- loss: 384.70965576171875\n",
            "Epochs:  222/400 ---- loss: 384.32769775390625\n",
            "Epochs:  223/400 ---- loss: 383.947998046875\n",
            "Epochs:  224/400 ---- loss: 383.5707092285156\n",
            "Epochs:  225/400 ---- loss: 383.1956481933594\n",
            "Epochs:  226/400 ---- loss: 382.8228454589844\n",
            "Epochs:  227/400 ---- loss: 382.4524841308594\n",
            "Epochs:  228/400 ---- loss: 382.0840148925781\n",
            "Epochs:  229/400 ---- loss: 381.71795654296875\n",
            "Epochs:  230/400 ---- loss: 381.35406494140625\n",
            "Epochs:  231/400 ---- loss: 380.992431640625\n",
            "Epochs:  232/400 ---- loss: 380.6329040527344\n",
            "Epochs:  233/400 ---- loss: 380.27557373046875\n",
            "Epochs:  234/400 ---- loss: 379.9203796386719\n",
            "Epochs:  235/400 ---- loss: 379.5673828125\n",
            "Epochs:  236/400 ---- loss: 379.2164001464844\n",
            "Epochs:  237/400 ---- loss: 378.86761474609375\n",
            "Epochs:  238/400 ---- loss: 378.52093505859375\n",
            "Epochs:  239/400 ---- loss: 378.17633056640625\n",
            "Epochs:  240/400 ---- loss: 377.8337097167969\n",
            "Epochs:  241/400 ---- loss: 377.4932861328125\n",
            "Epochs:  242/400 ---- loss: 377.1548767089844\n",
            "Epochs:  243/400 ---- loss: 376.81842041015625\n",
            "Epochs:  244/400 ---- loss: 376.48406982421875\n",
            "Epochs:  245/400 ---- loss: 376.1516418457031\n",
            "Epochs:  246/400 ---- loss: 375.82135009765625\n",
            "Epochs:  247/400 ---- loss: 375.49298095703125\n",
            "Epochs:  248/400 ---- loss: 375.1665344238281\n",
            "Epochs:  249/400 ---- loss: 374.84222412109375\n",
            "Epochs:  250/400 ---- loss: 374.51971435546875\n",
            "Epochs:  251/400 ---- loss: 374.1990661621094\n",
            "Epochs:  252/400 ---- loss: 373.8805236816406\n",
            "Epochs:  253/400 ---- loss: 373.56390380859375\n",
            "Epochs:  254/400 ---- loss: 373.2489929199219\n",
            "Epochs:  255/400 ---- loss: 372.9361572265625\n",
            "Epochs:  256/400 ---- loss: 372.6250915527344\n",
            "Epochs:  257/400 ---- loss: 372.31597900390625\n",
            "Epochs:  258/400 ---- loss: 372.0086669921875\n",
            "Epochs:  259/400 ---- loss: 371.70318603515625\n",
            "Epochs:  260/400 ---- loss: 371.3996887207031\n",
            "Epochs:  261/400 ---- loss: 371.0978088378906\n",
            "Epochs:  262/400 ---- loss: 370.7978210449219\n",
            "Epochs:  263/400 ---- loss: 370.49969482421875\n",
            "Epochs:  264/400 ---- loss: 370.2032470703125\n",
            "Epochs:  265/400 ---- loss: 369.9086608886719\n",
            "Epochs:  266/400 ---- loss: 369.6158752441406\n",
            "Epochs:  267/400 ---- loss: 369.3247375488281\n",
            "Epochs:  268/400 ---- loss: 369.0354309082031\n",
            "Epochs:  269/400 ---- loss: 368.74786376953125\n",
            "Epochs:  270/400 ---- loss: 368.46197509765625\n",
            "Epochs:  271/400 ---- loss: 368.1777648925781\n",
            "Epochs:  272/400 ---- loss: 367.89532470703125\n",
            "Epochs:  273/400 ---- loss: 367.6146240234375\n",
            "Epochs:  274/400 ---- loss: 367.3355407714844\n",
            "Epochs:  275/400 ---- loss: 367.05810546875\n",
            "Epochs:  276/400 ---- loss: 366.78240966796875\n",
            "Epochs:  277/400 ---- loss: 366.5082702636719\n",
            "Epochs:  278/400 ---- loss: 366.23590087890625\n",
            "Epochs:  279/400 ---- loss: 365.96502685546875\n",
            "Epochs:  280/400 ---- loss: 365.6958312988281\n",
            "Epochs:  281/400 ---- loss: 365.42822265625\n",
            "Epochs:  282/400 ---- loss: 365.16217041015625\n",
            "Epochs:  283/400 ---- loss: 364.89788818359375\n",
            "Epochs:  284/400 ---- loss: 364.6351013183594\n",
            "Epochs:  285/400 ---- loss: 364.3738098144531\n",
            "Epochs:  286/400 ---- loss: 364.1141052246094\n",
            "Epochs:  287/400 ---- loss: 363.8560485839844\n",
            "Epochs:  288/400 ---- loss: 363.5994873046875\n",
            "Epochs:  289/400 ---- loss: 363.34442138671875\n",
            "Epochs:  290/400 ---- loss: 363.0909423828125\n",
            "Epochs:  291/400 ---- loss: 362.83892822265625\n",
            "Epochs:  292/400 ---- loss: 362.5885009765625\n",
            "Epochs:  293/400 ---- loss: 362.3395080566406\n",
            "Epochs:  294/400 ---- loss: 362.0920715332031\n",
            "Epochs:  295/400 ---- loss: 361.84600830078125\n",
            "Epochs:  296/400 ---- loss: 361.6014404296875\n",
            "Epochs:  297/400 ---- loss: 361.3582763671875\n",
            "Epochs:  298/400 ---- loss: 361.11669921875\n",
            "Epochs:  299/400 ---- loss: 360.87652587890625\n",
            "Epochs:  300/400 ---- loss: 360.6377868652344\n",
            "Epochs:  301/400 ---- loss: 360.40045166015625\n",
            "Epochs:  302/400 ---- loss: 360.1645202636719\n",
            "Epochs:  303/400 ---- loss: 359.92999267578125\n",
            "Epochs:  304/400 ---- loss: 359.69696044921875\n",
            "Epochs:  305/400 ---- loss: 359.4651794433594\n",
            "Epochs:  306/400 ---- loss: 359.23480224609375\n",
            "Epochs:  307/400 ---- loss: 359.00592041015625\n",
            "Epochs:  308/400 ---- loss: 358.77838134765625\n",
            "Epochs:  309/400 ---- loss: 358.5521240234375\n",
            "Epochs:  310/400 ---- loss: 358.3272399902344\n",
            "Epochs:  311/400 ---- loss: 358.10369873046875\n",
            "Epochs:  312/400 ---- loss: 357.8815002441406\n",
            "Epochs:  313/400 ---- loss: 357.66070556640625\n",
            "Epochs:  314/400 ---- loss: 357.4410095214844\n",
            "Epochs:  315/400 ---- loss: 357.22283935546875\n",
            "Epochs:  316/400 ---- loss: 357.0058288574219\n",
            "Epochs:  317/400 ---- loss: 356.7901611328125\n",
            "Epochs:  318/400 ---- loss: 356.57574462890625\n",
            "Epochs:  319/400 ---- loss: 356.36260986328125\n",
            "Epochs:  320/400 ---- loss: 356.15087890625\n",
            "Epochs:  321/400 ---- loss: 355.94024658203125\n",
            "Epochs:  322/400 ---- loss: 355.73095703125\n",
            "Epochs:  323/400 ---- loss: 355.5228576660156\n",
            "Epochs:  324/400 ---- loss: 355.31597900390625\n",
            "Epochs:  325/400 ---- loss: 355.1103820800781\n",
            "Epochs:  326/400 ---- loss: 354.9060363769531\n",
            "Epochs:  327/400 ---- loss: 354.70294189453125\n",
            "Epochs:  328/400 ---- loss: 354.5008850097656\n",
            "Epochs:  329/400 ---- loss: 354.3001708984375\n",
            "Epochs:  330/400 ---- loss: 354.1006774902344\n",
            "Epochs:  331/400 ---- loss: 353.90228271484375\n",
            "Epochs:  332/400 ---- loss: 353.7049865722656\n",
            "Epochs:  333/400 ---- loss: 353.50897216796875\n",
            "Epochs:  334/400 ---- loss: 353.3141174316406\n",
            "Epochs:  335/400 ---- loss: 353.1203918457031\n",
            "Epochs:  336/400 ---- loss: 352.9278259277344\n",
            "Epochs:  337/400 ---- loss: 352.7364807128906\n",
            "Epochs:  338/400 ---- loss: 352.54620361328125\n",
            "Epochs:  339/400 ---- loss: 352.35699462890625\n",
            "Epochs:  340/400 ---- loss: 352.16900634765625\n",
            "Epochs:  341/400 ---- loss: 351.9820556640625\n",
            "Epochs:  342/400 ---- loss: 351.79620361328125\n",
            "Epochs:  343/400 ---- loss: 351.61163330078125\n",
            "Epochs:  344/400 ---- loss: 351.427978515625\n",
            "Epochs:  345/400 ---- loss: 351.2454833984375\n",
            "Epochs:  346/400 ---- loss: 351.06402587890625\n",
            "Epochs:  347/400 ---- loss: 350.88372802734375\n",
            "Epochs:  348/400 ---- loss: 350.70440673828125\n",
            "Epochs:  349/400 ---- loss: 350.52618408203125\n",
            "Epochs:  350/400 ---- loss: 350.3490295410156\n",
            "Epochs:  351/400 ---- loss: 350.17291259765625\n",
            "Epochs:  352/400 ---- loss: 349.997802734375\n",
            "Epochs:  353/400 ---- loss: 349.8238220214844\n",
            "Epochs:  354/400 ---- loss: 349.6507873535156\n",
            "Epochs:  355/400 ---- loss: 349.47882080078125\n",
            "Epochs:  356/400 ---- loss: 349.3077697753906\n",
            "Epochs:  357/400 ---- loss: 349.1378173828125\n",
            "Epochs:  358/400 ---- loss: 348.9689025878906\n",
            "Epochs:  359/400 ---- loss: 348.8009338378906\n",
            "Epochs:  360/400 ---- loss: 348.63397216796875\n",
            "Epochs:  361/400 ---- loss: 348.46795654296875\n",
            "Epochs:  362/400 ---- loss: 348.30303955078125\n",
            "Epochs:  363/400 ---- loss: 348.138916015625\n",
            "Epochs:  364/400 ---- loss: 347.9759216308594\n",
            "Epochs:  365/400 ---- loss: 347.8138122558594\n",
            "Epochs:  366/400 ---- loss: 347.6527404785156\n",
            "Epochs:  367/400 ---- loss: 347.4925842285156\n",
            "Epochs:  368/400 ---- loss: 347.33331298828125\n",
            "Epochs:  369/400 ---- loss: 347.1749267578125\n",
            "Epochs:  370/400 ---- loss: 347.0176086425781\n",
            "Epochs:  371/400 ---- loss: 346.8612060546875\n",
            "Epochs:  372/400 ---- loss: 346.7056884765625\n",
            "Epochs:  373/400 ---- loss: 346.5511474609375\n",
            "Epochs:  374/400 ---- loss: 346.3974914550781\n",
            "Epochs:  375/400 ---- loss: 346.24462890625\n",
            "Epochs:  376/400 ---- loss: 346.0928039550781\n",
            "Epochs:  377/400 ---- loss: 345.94183349609375\n",
            "Epochs:  378/400 ---- loss: 345.7917175292969\n",
            "Epochs:  379/400 ---- loss: 345.64251708984375\n",
            "Epochs:  380/400 ---- loss: 345.4942321777344\n",
            "Epochs:  381/400 ---- loss: 345.3467712402344\n",
            "Epochs:  382/400 ---- loss: 345.2001647949219\n",
            "Epochs:  383/400 ---- loss: 345.0544738769531\n",
            "Epochs:  384/400 ---- loss: 344.90960693359375\n",
            "Epochs:  385/400 ---- loss: 344.76556396484375\n",
            "Epochs:  386/400 ---- loss: 344.6224365234375\n",
            "Epochs:  387/400 ---- loss: 344.4801025390625\n",
            "Epochs:  388/400 ---- loss: 344.3385925292969\n",
            "Epochs:  389/400 ---- loss: 344.197998046875\n",
            "Epochs:  390/400 ---- loss: 344.05816650390625\n",
            "Epochs:  391/400 ---- loss: 343.91925048828125\n",
            "Epochs:  392/400 ---- loss: 343.78094482421875\n",
            "Epochs:  393/400 ---- loss: 343.64361572265625\n",
            "Epochs:  394/400 ---- loss: 343.507080078125\n",
            "Epochs:  395/400 ---- loss: 343.37127685546875\n",
            "Epochs:  396/400 ---- loss: 343.23626708984375\n",
            "Epochs:  397/400 ---- loss: 343.10211181640625\n",
            "Epochs:  398/400 ---- loss: 342.96868896484375\n",
            "Epochs:  399/400 ---- loss: 342.83612060546875\n"
          ]
        }
      ]
    },
    {
      "cell_type": "code",
      "source": [
        "preds = model(input)\n",
        "preds"
      ],
      "metadata": {
        "colab": {
          "base_uri": "https://localhost:8080/"
        },
        "id": "FPrCQWjjSuZB",
        "outputId": "a1e4d195-9ae4-4672-d2dc-61790498b489"
      },
      "execution_count": null,
      "outputs": [
        {
          "output_type": "execute_result",
          "data": {
            "text/plain": [
              "tensor([[ 43.4630,  83.6423],\n",
              "        [ 54.0832,  50.2256],\n",
              "        [ 82.8059, 119.8544],\n",
              "        [ 28.9672,  41.3576],\n",
              "        [107.6906, 119.7870]], grad_fn=<AddBackward0>)"
            ]
          },
          "metadata": {},
          "execution_count": 26
        }
      ]
    },
    {
      "cell_type": "code",
      "source": [
        "targets"
      ],
      "metadata": {
        "colab": {
          "base_uri": "https://localhost:8080/"
        },
        "id": "8INBY7tCUS04",
        "outputId": "6176fbe5-dad2-4561-f034-a7fb8fd064c1"
      },
      "execution_count": null,
      "outputs": [
        {
          "output_type": "execute_result",
          "data": {
            "text/plain": [
              "tensor([[ 32.,  66.],\n",
              "        [ 52.,  76.],\n",
              "        [102., 155.],\n",
              "        [ 32.,  26.],\n",
              "        [ 99., 100.]])"
            ]
          },
          "metadata": {},
          "execution_count": 27
        }
      ]
    },
    {
      "cell_type": "code",
      "source": [
        "# Using Torch built in function for linear regression\n",
        "\n",
        "import torch.nn as nn\n",
        "import numpy as np\n",
        "import pandas as pd"
      ],
      "metadata": {
        "id": "TwUYQ_rsUViz"
      },
      "execution_count": 2,
      "outputs": []
    },
    {
      "cell_type": "code",
      "source": [
        "# Input (temp, rainfall, humidity)\n",
        "inputs = np.array([[73, 67, 43], \n",
        "                   [91, 88, 64], \n",
        "                   [87, 134, 58], \n",
        "                   [102, 43, 37], \n",
        "                   [69, 96, 70], \n",
        "                   [74, 66, 43], \n",
        "                   [91, 87, 65], \n",
        "                   [88, 134, 59], \n",
        "                   [101, 44, 37], \n",
        "                   [68, 96, 71], \n",
        "                   [73, 66, 44], \n",
        "                   [92, 87, 64], \n",
        "                   [87, 135, 57], \n",
        "                   [103, 43, 36], \n",
        "                   [68, 97, 70]], \n",
        "                  dtype='float32')\n",
        "\n",
        "\n",
        "targets = np.array([[56, 70], \n",
        "                    [81, 101], \n",
        "                    [119, 133], \n",
        "                    [22, 37], \n",
        "                    [103, 119],\n",
        "                    [57, 69], \n",
        "                    [80, 102], \n",
        "                    [118, 132], \n",
        "                    [21, 38], \n",
        "                    [104, 118], \n",
        "                    [57, 69], \n",
        "                    [82, 100], \n",
        "                    [118, 134], \n",
        "                    [20, 38], \n",
        "                    [102, 120]], \n",
        "                   dtype='float32')\n",
        "\n",
        "inputs = torch.from_numpy(inputs)\n",
        "targets = torch.from_numpy(targets)"
      ],
      "metadata": {
        "id": "hBIYuNvtpIWa"
      },
      "execution_count": 3,
      "outputs": []
    },
    {
      "cell_type": "code",
      "source": [
        "# DataLoader  -- helps to create a batch\n",
        "\n",
        "from torch.utils.data import TensorDataset"
      ],
      "metadata": {
        "id": "YfFN0Nq5pk_8"
      },
      "execution_count": 4,
      "outputs": []
    },
    {
      "cell_type": "code",
      "source": [
        "train_ds = TensorDataset(inputs, targets)"
      ],
      "metadata": {
        "id": "q9fvYJ7mqfTp"
      },
      "execution_count": 5,
      "outputs": []
    },
    {
      "cell_type": "code",
      "source": [
        "train_ds[0]  # o/p will be in tuple format.. it will be useful for DataLoader function"
      ],
      "metadata": {
        "colab": {
          "base_uri": "https://localhost:8080/"
        },
        "id": "Qi6pJYFeqn6x",
        "outputId": "b9968be5-7fa0-4498-fe13-8a4fd6183b21"
      },
      "execution_count": 6,
      "outputs": [
        {
          "output_type": "execute_result",
          "data": {
            "text/plain": [
              "(tensor([73., 67., 43.]), tensor([56., 70.]))"
            ]
          },
          "metadata": {},
          "execution_count": 6
        }
      ]
    },
    {
      "cell_type": "code",
      "source": [
        "train_ds[0:3]  # o/p will be in tuple format.. it will be useful for DataLoader function"
      ],
      "metadata": {
        "colab": {
          "base_uri": "https://localhost:8080/"
        },
        "id": "Et32VCWxqxZG",
        "outputId": "9ae1b246-ac53-40e6-ffab-97b150111199"
      },
      "execution_count": 7,
      "outputs": [
        {
          "output_type": "execute_result",
          "data": {
            "text/plain": [
              "(tensor([[ 73.,  67.,  43.],\n",
              "         [ 91.,  88.,  64.],\n",
              "         [ 87., 134.,  58.]]), tensor([[ 56.,  70.],\n",
              "         [ 81., 101.],\n",
              "         [119., 133.]]))"
            ]
          },
          "metadata": {},
          "execution_count": 7
        }
      ]
    },
    {
      "cell_type": "code",
      "source": [
        "from torch.utils.data import DataLoader"
      ],
      "metadata": {
        "id": "ikbmR6E-q8XO"
      },
      "execution_count": 8,
      "outputs": []
    },
    {
      "cell_type": "code",
      "source": [
        "batch_size = 5\n",
        "train_data = DataLoader(train_ds, batch_size, shuffle=True)"
      ],
      "metadata": {
        "id": "0YD6KWMorHQ0"
      },
      "execution_count": 9,
      "outputs": []
    },
    {
      "cell_type": "code",
      "source": [
        "train_data"
      ],
      "metadata": {
        "colab": {
          "base_uri": "https://localhost:8080/"
        },
        "id": "zo-Xzd3Dr1Je",
        "outputId": "e4978b8e-04d7-4dab-b452-1f3732e2d206"
      },
      "execution_count": 10,
      "outputs": [
        {
          "output_type": "execute_result",
          "data": {
            "text/plain": [
              "<torch.utils.data.dataloader.DataLoader at 0x7fd04da34e50>"
            ]
          },
          "metadata": {},
          "execution_count": 10
        }
      ]
    },
    {
      "cell_type": "code",
      "source": [
        "for xb, yb in train_data:\n",
        "  print(xb)\n",
        "  print(yb)\n",
        "  break"
      ],
      "metadata": {
        "colab": {
          "base_uri": "https://localhost:8080/"
        },
        "id": "Az3GWaJAr4qj",
        "outputId": "9b4df5fc-add6-4b5b-e91c-69953a41a6a1"
      },
      "execution_count": 11,
      "outputs": [
        {
          "output_type": "stream",
          "name": "stdout",
          "text": [
            "tensor([[103.,  43.,  36.],\n",
            "        [ 68.,  96.,  71.],\n",
            "        [ 88., 134.,  59.],\n",
            "        [ 68.,  97.,  70.],\n",
            "        [ 74.,  66.,  43.]])\n",
            "tensor([[ 20.,  38.],\n",
            "        [104., 118.],\n",
            "        [118., 132.],\n",
            "        [102., 120.],\n",
            "        [ 57.,  69.]])\n"
          ]
        }
      ]
    },
    {
      "cell_type": "code",
      "source": [
        "## nn.linear\n",
        "\n",
        "# define model\n",
        "\n",
        "model = nn.Linear(3, 2)\n",
        "\n",
        "print(model.weight)\n",
        "print(model.bias)"
      ],
      "metadata": {
        "colab": {
          "base_uri": "https://localhost:8080/"
        },
        "id": "8lnqQprVr3Vb",
        "outputId": "4b20ffd9-f892-467c-b148-bb86ac91d05d"
      },
      "execution_count": 12,
      "outputs": [
        {
          "output_type": "stream",
          "name": "stdout",
          "text": [
            "Parameter containing:\n",
            "tensor([[ 0.2075, -0.1524, -0.2930],\n",
            "        [-0.4856,  0.1673, -0.2900]], requires_grad=True)\n",
            "Parameter containing:\n",
            "tensor([-0.1407,  0.0948], requires_grad=True)\n"
          ]
        }
      ]
    },
    {
      "cell_type": "code",
      "source": [
        "list(model.parameters())"
      ],
      "metadata": {
        "colab": {
          "base_uri": "https://localhost:8080/"
        },
        "id": "LhHli7OUtkSS",
        "outputId": "ee48e356-7eed-4a67-d76f-2a3e3d91e4b3"
      },
      "execution_count": 13,
      "outputs": [
        {
          "output_type": "execute_result",
          "data": {
            "text/plain": [
              "[Parameter containing:\n",
              " tensor([[ 0.2075, -0.1524, -0.2930],\n",
              "         [-0.4856,  0.1673, -0.2900]], requires_grad=True),\n",
              " Parameter containing:\n",
              " tensor([-0.1407,  0.0948], requires_grad=True)]"
            ]
          },
          "metadata": {},
          "execution_count": 13
        }
      ]
    },
    {
      "cell_type": "code",
      "source": [
        "preds = model(inputs)\n",
        "preds"
      ],
      "metadata": {
        "colab": {
          "base_uri": "https://localhost:8080/"
        },
        "id": "X_pd84pAtvoT",
        "outputId": "a63bf0bd-6da0-48fa-ecb4-128414da9450"
      },
      "execution_count": 14,
      "outputs": [
        {
          "output_type": "execute_result",
          "data": {
            "text/plain": [
              "tensor([[ -7.8034, -36.6135],\n",
              "        [-13.4216, -47.9310],\n",
              "        [-19.5048, -36.5534],\n",
              "        [  3.6294, -52.9692],\n",
              "        [-20.9633, -37.6508],\n",
              "        [ -7.4435, -37.2663],\n",
              "        [-13.5621, -48.3883],\n",
              "        [-19.5903, -37.3289],\n",
              "        [  3.2695, -52.3163],\n",
              "        [-21.4638, -37.4553],\n",
              "        [ -7.9440, -37.0708],\n",
              "        [-13.0617, -48.5839],\n",
              "        [-19.3643, -36.0960],\n",
              "        [  4.1298, -53.1647],\n",
              "        [-21.3232, -36.9980]], grad_fn=<AddmmBackward0>)"
            ]
          },
          "metadata": {},
          "execution_count": 14
        }
      ]
    },
    {
      "cell_type": "code",
      "source": [
        "import torch.nn.functional as F\n",
        "loss_fn = F.mse_loss\n"
      ],
      "metadata": {
        "id": "H34EWGpfu2iU"
      },
      "execution_count": 15,
      "outputs": []
    },
    {
      "cell_type": "code",
      "source": [
        "loss = loss_fn(preds, targets)"
      ],
      "metadata": {
        "id": "Xo4IinPsvGIg"
      },
      "execution_count": 16,
      "outputs": []
    },
    {
      "cell_type": "code",
      "source": [
        "loss"
      ],
      "metadata": {
        "colab": {
          "base_uri": "https://localhost:8080/"
        },
        "id": "o4IqIHYfvKgL",
        "outputId": "8b66d5ff-4bee-4ead-e0f8-ac0571cf8ad6"
      },
      "execution_count": 17,
      "outputs": [
        {
          "output_type": "execute_result",
          "data": {
            "text/plain": [
              "tensor(14280.1934, grad_fn=<MseLossBackward0>)"
            ]
          },
          "metadata": {},
          "execution_count": 17
        }
      ]
    },
    {
      "cell_type": "code",
      "source": [
        "# optimizer\n",
        "\n",
        "opt = torch.optim.SGD(model.parameters(), lr=1e-5)"
      ],
      "metadata": {
        "id": "RoBYZ67gvLbH"
      },
      "execution_count": 18,
      "outputs": []
    },
    {
      "cell_type": "code",
      "source": [
        "# training loop\n",
        "\n",
        "def fit(num_epochs, model, loss_fn, opt, train_data):\n",
        "  for epoch in range(num_epochs):\n",
        "    for xb, yb in train_data:\n",
        "      pred = model(xb)\n",
        "      loss = loss_fn(pred, yb)\n",
        "      loss.backward()\n",
        "      opt.step()\n",
        "      opt.zero_grad()\n",
        "    \n",
        "    if (epoch+1) % 10 == 0:\n",
        "      print(\"Epoch [{}/{}], Loss: {:.4f}\".format(epoch+1, num_epochs, loss))"
      ],
      "metadata": {
        "id": "OEGceC1IvdTd"
      },
      "execution_count": 19,
      "outputs": []
    },
    {
      "cell_type": "code",
      "source": [
        "fit(100, model, loss_fn, opt, train_data)"
      ],
      "metadata": {
        "colab": {
          "base_uri": "https://localhost:8080/"
        },
        "id": "yiLMA_myzgwg",
        "outputId": "5f3254da-1d91-4ade-aab2-f2b883f3aff2"
      },
      "execution_count": 20,
      "outputs": [
        {
          "output_type": "stream",
          "name": "stdout",
          "text": [
            "Epoch [10/100], Loss: 408.4560\n",
            "Epoch [20/100], Loss: 460.0863\n",
            "Epoch [30/100], Loss: 206.2973\n",
            "Epoch [40/100], Loss: 241.0512\n",
            "Epoch [50/100], Loss: 107.5000\n",
            "Epoch [60/100], Loss: 106.0562\n",
            "Epoch [70/100], Loss: 69.6916\n",
            "Epoch [80/100], Loss: 53.1560\n",
            "Epoch [90/100], Loss: 54.4281\n",
            "Epoch [100/100], Loss: 26.3190\n"
          ]
        }
      ]
    },
    {
      "cell_type": "code",
      "source": [
        "pred = model(inputs)\n",
        "pred"
      ],
      "metadata": {
        "colab": {
          "base_uri": "https://localhost:8080/"
        },
        "id": "BAejE5dSz0sX",
        "outputId": "71660a67-51bc-4baf-c46b-2543ed612f36"
      },
      "execution_count": 21,
      "outputs": [
        {
          "output_type": "execute_result",
          "data": {
            "text/plain": [
              "tensor([[ 58.7609,  71.4380],\n",
              "        [ 79.8197,  97.0053],\n",
              "        [121.0034, 140.2381],\n",
              "        [ 30.5831,  42.4296],\n",
              "        [ 92.2350, 109.5676],\n",
              "        [ 57.6810,  70.3415],\n",
              "        [ 79.1442,  96.3782],\n",
              "        [121.0708, 140.4636],\n",
              "        [ 31.6630,  43.5261],\n",
              "        [ 92.6395, 110.0369],\n",
              "        [ 58.0854,  70.8108],\n",
              "        [ 78.7397,  95.9089],\n",
              "        [121.6790, 140.8652],\n",
              "        [ 30.1786,  41.9603],\n",
              "        [ 93.3150, 110.6640]], grad_fn=<AddmmBackward0>)"
            ]
          },
          "metadata": {},
          "execution_count": 21
        }
      ]
    },
    {
      "cell_type": "code",
      "source": [
        "targets"
      ],
      "metadata": {
        "colab": {
          "base_uri": "https://localhost:8080/"
        },
        "id": "k-GaQTQd0BbX",
        "outputId": "65d1884b-7b6a-4fb9-b5b9-3bfca9f647dc"
      },
      "execution_count": 22,
      "outputs": [
        {
          "output_type": "execute_result",
          "data": {
            "text/plain": [
              "tensor([[ 56.,  70.],\n",
              "        [ 81., 101.],\n",
              "        [119., 133.],\n",
              "        [ 22.,  37.],\n",
              "        [103., 119.],\n",
              "        [ 57.,  69.],\n",
              "        [ 80., 102.],\n",
              "        [118., 132.],\n",
              "        [ 21.,  38.],\n",
              "        [104., 118.],\n",
              "        [ 57.,  69.],\n",
              "        [ 82., 100.],\n",
              "        [118., 134.],\n",
              "        [ 20.,  38.],\n",
              "        [102., 120.]])"
            ]
          },
          "metadata": {},
          "execution_count": 22
        }
      ]
    },
    {
      "cell_type": "code",
      "source": [
        "model(torch.tensor([[75,66,44.]]))"
      ],
      "metadata": {
        "colab": {
          "base_uri": "https://localhost:8080/"
        },
        "id": "1TKsSsEu0DD4",
        "outputId": "1b0c91c5-f255-4ce3-941f-935111c58dfd"
      },
      "execution_count": 23,
      "outputs": [
        {
          "output_type": "execute_result",
          "data": {
            "text/plain": [
              "tensor([[57.7483, 70.5671]], grad_fn=<AddmmBackward0>)"
            ]
          },
          "metadata": {},
          "execution_count": 23
        }
      ]
    },
    {
      "cell_type": "code",
      "source": [
        "pred"
      ],
      "metadata": {
        "colab": {
          "base_uri": "https://localhost:8080/"
        },
        "id": "F9Co4ZJm3Wm5",
        "outputId": "2097e06b-6db7-427f-c648-a12c407c04d5"
      },
      "execution_count": 24,
      "outputs": [
        {
          "output_type": "execute_result",
          "data": {
            "text/plain": [
              "tensor([[ 58.7609,  71.4380],\n",
              "        [ 79.8197,  97.0053],\n",
              "        [121.0034, 140.2381],\n",
              "        [ 30.5831,  42.4296],\n",
              "        [ 92.2350, 109.5676],\n",
              "        [ 57.6810,  70.3415],\n",
              "        [ 79.1442,  96.3782],\n",
              "        [121.0708, 140.4636],\n",
              "        [ 31.6630,  43.5261],\n",
              "        [ 92.6395, 110.0369],\n",
              "        [ 58.0854,  70.8108],\n",
              "        [ 78.7397,  95.9089],\n",
              "        [121.6790, 140.8652],\n",
              "        [ 30.1786,  41.9603],\n",
              "        [ 93.3150, 110.6640]], grad_fn=<AddmmBackward0>)"
            ]
          },
          "metadata": {},
          "execution_count": 24
        }
      ]
    },
    {
      "cell_type": "code",
      "source": [
        "y_pred = pred.numpy()\n",
        "y_pred"
      ],
      "metadata": {
        "colab": {
          "base_uri": "https://localhost:8080/",
          "height": 182
        },
        "id": "YfpJvwvv28n_",
        "outputId": "b0f06c26-6547-45b6-e822-61dd794f61da"
      },
      "execution_count": 25,
      "outputs": [
        {
          "output_type": "error",
          "ename": "RuntimeError",
          "evalue": "ignored",
          "traceback": [
            "\u001b[0;31m---------------------------------------------------------------------------\u001b[0m",
            "\u001b[0;31mRuntimeError\u001b[0m                              Traceback (most recent call last)",
            "\u001b[0;32m<ipython-input-25-c452eb83f2da>\u001b[0m in \u001b[0;36m<module>\u001b[0;34m()\u001b[0m\n\u001b[0;32m----> 1\u001b[0;31m \u001b[0my_pred\u001b[0m \u001b[0;34m=\u001b[0m \u001b[0mpred\u001b[0m\u001b[0;34m.\u001b[0m\u001b[0mnumpy\u001b[0m\u001b[0;34m(\u001b[0m\u001b[0;34m)\u001b[0m\u001b[0;34m\u001b[0m\u001b[0;34m\u001b[0m\u001b[0m\n\u001b[0m\u001b[1;32m      2\u001b[0m \u001b[0my_pred\u001b[0m\u001b[0;34m\u001b[0m\u001b[0;34m\u001b[0m\u001b[0m\n",
            "\u001b[0;31mRuntimeError\u001b[0m: Can't call numpy() on Tensor that requires grad. Use tensor.detach().numpy() instead."
          ]
        }
      ]
    },
    {
      "cell_type": "code",
      "source": [
        "from sklearn.metrics import r2_score\n",
        "y_pred = pred.numpy()\n",
        "targets = targets.numpy()\n",
        "r2_score(pred, targets)"
      ],
      "metadata": {
        "colab": {
          "base_uri": "https://localhost:8080/",
          "height": 217
        },
        "id": "6PA5d0Za1UxB",
        "outputId": "d4d3cc52-0fe8-42ee-e799-c174c1f98418"
      },
      "execution_count": 26,
      "outputs": [
        {
          "output_type": "error",
          "ename": "RuntimeError",
          "evalue": "ignored",
          "traceback": [
            "\u001b[0;31m---------------------------------------------------------------------------\u001b[0m",
            "\u001b[0;31mRuntimeError\u001b[0m                              Traceback (most recent call last)",
            "\u001b[0;32m<ipython-input-26-7aa6f82f278c>\u001b[0m in \u001b[0;36m<module>\u001b[0;34m()\u001b[0m\n\u001b[1;32m      1\u001b[0m \u001b[0;32mfrom\u001b[0m \u001b[0msklearn\u001b[0m\u001b[0;34m.\u001b[0m\u001b[0mmetrics\u001b[0m \u001b[0;32mimport\u001b[0m \u001b[0mr2_score\u001b[0m\u001b[0;34m\u001b[0m\u001b[0;34m\u001b[0m\u001b[0m\n\u001b[0;32m----> 2\u001b[0;31m \u001b[0my_pred\u001b[0m \u001b[0;34m=\u001b[0m \u001b[0mpred\u001b[0m\u001b[0;34m.\u001b[0m\u001b[0mnumpy\u001b[0m\u001b[0;34m(\u001b[0m\u001b[0;34m)\u001b[0m\u001b[0;34m\u001b[0m\u001b[0;34m\u001b[0m\u001b[0m\n\u001b[0m\u001b[1;32m      3\u001b[0m \u001b[0mtargets\u001b[0m \u001b[0;34m=\u001b[0m \u001b[0mtargets\u001b[0m\u001b[0;34m.\u001b[0m\u001b[0mnumpy\u001b[0m\u001b[0;34m(\u001b[0m\u001b[0;34m)\u001b[0m\u001b[0;34m\u001b[0m\u001b[0;34m\u001b[0m\u001b[0m\n\u001b[1;32m      4\u001b[0m \u001b[0mr2_score\u001b[0m\u001b[0;34m(\u001b[0m\u001b[0mpred\u001b[0m\u001b[0;34m,\u001b[0m \u001b[0mtargets\u001b[0m\u001b[0;34m)\u001b[0m\u001b[0;34m\u001b[0m\u001b[0;34m\u001b[0m\u001b[0m\n",
            "\u001b[0;31mRuntimeError\u001b[0m: Can't call numpy() on Tensor that requires grad. Use tensor.detach().numpy() instead."
          ]
        }
      ]
    },
    {
      "cell_type": "code",
      "source": [
        "# to save the model\n",
        "\n",
        "torch.save(model.state_dict(), 'model_weights.pth')"
      ],
      "metadata": {
        "id": "R1b01BkC2sC6"
      },
      "execution_count": 27,
      "outputs": []
    },
    {
      "cell_type": "code",
      "source": [
        "# load the model\n",
        "\n",
        "model = torch.load('model_weights.pth')"
      ],
      "metadata": {
        "id": "qfViCU6nTJ2X"
      },
      "execution_count": 29,
      "outputs": []
    },
    {
      "cell_type": "code",
      "source": [
        ""
      ],
      "metadata": {
        "id": "SQXZBUfcTMln"
      },
      "execution_count": null,
      "outputs": []
    }
  ]
}